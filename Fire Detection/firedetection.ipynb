{
 "cells": [
  {
   "cell_type": "code",
   "execution_count": null,
   "metadata": {},
   "outputs": [],
   "source": [
    "# importing packages \n",
    "\n",
    "import cv2\n",
    "from playsound import playsound\n",
    "fire_cascade= cv2.CascadeClassifier(\"fire_detection.xml\")\n",
    "\n",
    "cap=cv2.VideoCapture(0)\n",
    "\n",
    "while(True):\n",
    "    ret,image =cap.read()\n",
    "    gray=cv2.cvtColor(image,cv2.COLOR_BGR2GRAY)\n",
    "    fire=fire_cascade.detectMultiScale(image,1.1,5)\n",
    "    for (x,y,w,h) in fire:\n",
    "        cv2.rectangle(image,(x-20,y-20),(x+w+20,y+h+20),(255,0,0),2)\n",
    "        # print \n",
    "        print(\"fire detected\")\n",
    "        playsound(\"audio.mp3\")\n",
    "    cv2.imshow('image ',image)\n",
    "    if cv2.waitKey(1) & 0xFF==ord('q'):\n",
    "        break\n",
    "    \n",
    "        "
   ]
  },
  {
   "cell_type": "code",
   "execution_count": null,
   "metadata": {},
   "outputs": [],
   "source": []
  }
 ],
 "metadata": {
  "kernelspec": {
   "display_name": "objectdetectnew",
   "language": "python",
   "name": "objectdetectnew"
  },
  "language_info": {
   "codemirror_mode": {
    "name": "ipython",
    "version": 3
   },
   "file_extension": ".py",
   "mimetype": "text/x-python",
   "name": "python",
   "nbconvert_exporter": "python",
   "pygments_lexer": "ipython3",
   "version": "3.6.12"
  }
 },
 "nbformat": 4,
 "nbformat_minor": 2
}
